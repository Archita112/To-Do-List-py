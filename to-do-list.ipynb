{
 "cells": [
  {
   "cell_type": "code",
   "execution_count": 3,
   "id": "a08daf4b-ec10-4ec2-b0d1-e3dc16fd0f98",
   "metadata": {},
   "outputs": [
    {
     "name": "stdout",
     "output_type": "stream",
     "text": [
      "\n",
      "Kindly choose an option:\n",
      "1. Add a task\n",
      "2. Delete a task\n",
      "3. Show your existing To-Do-List\n",
      "4. Exit\n"
     ]
    },
    {
     "name": "stdin",
     "output_type": "stream",
     "text": [
      "Enter your choice:  3\n"
     ]
    },
    {
     "name": "stdout",
     "output_type": "stream",
     "text": [
      "Empty To-Do-List\n",
      "\n",
      "Kindly choose an option:\n",
      "1. Add a task\n",
      "2. Delete a task\n",
      "3. Show your existing To-Do-List\n",
      "4. Exit\n"
     ]
    },
    {
     "name": "stdin",
     "output_type": "stream",
     "text": [
      "Enter your choice:  1\n",
      "Enter your task needs to be completed hello\n"
     ]
    },
    {
     "name": "stdout",
     "output_type": "stream",
     "text": [
      "['hello']\n",
      "\n",
      "Kindly choose an option:\n",
      "1. Add a task\n",
      "2. Delete a task\n",
      "3. Show your existing To-Do-List\n",
      "4. Exit\n"
     ]
    },
    {
     "name": "stdin",
     "output_type": "stream",
     "text": [
      "Enter your choice:  2\n"
     ]
    },
    {
     "name": "stdout",
     "output_type": "stream",
     "text": [
      "1. hello\n"
     ]
    },
    {
     "name": "stdin",
     "output_type": "stream",
     "text": [
      "Enter the index of the task you want to delete -  0\n"
     ]
    },
    {
     "name": "stdout",
     "output_type": "stream",
     "text": [
      "Deleted successfully\n",
      "\n",
      "Kindly choose an option:\n",
      "1. Add a task\n",
      "2. Delete a task\n",
      "3. Show your existing To-Do-List\n",
      "4. Exit\n"
     ]
    },
    {
     "name": "stdin",
     "output_type": "stream",
     "text": [
      "Enter your choice:  4\n"
     ]
    },
    {
     "name": "stdout",
     "output_type": "stream",
     "text": [
      "Exiting...\n"
     ]
    }
   ],
   "source": [
    "list = []\n",
    "# print(\"Kindly add the tasks to your to do list - \")\n",
    "# print(\"1. Add a task.\\n 2. Delete a task.\\n 3. Show your existing To-Do-List.\\n \")\n",
    "# number = int(input())\n",
    "# if (number == 1):\n",
    "#     add()\n",
    "# elif (number == 2):\n",
    "#     currently()\n",
    "# elif (number == 3):\n",
    "#     delete()\n",
    "\n",
    "def add():\n",
    "    # print()\n",
    "    task = input(\"Enter your task needs to be completed\")\n",
    "    list.append(task)\n",
    "    print(list)\n",
    "\n",
    "def delete():\n",
    "    currently()\n",
    "    deletion_num = int(input(\"Enter the index of the task you want to delete - \"))\n",
    "    if (deletion_num < len(list)):\n",
    "        list.pop(deletion_num)\n",
    "        print(\"Deleted successfully\")\n",
    "    else:\n",
    "        print(\"No such task found\")\n",
    "\n",
    "def currently():\n",
    "    if not list:\n",
    "        print(\"Empty To-Do-List\")\n",
    "    else:\n",
    "        for i, task in enumerate(list):\n",
    "            print(f\"{i + 1}. {task}\")\n",
    "\n",
    "def main():\n",
    "    while True:\n",
    "        print(\"\\nKindly choose an option:\")\n",
    "        print(\"1. Add a task\")\n",
    "        print(\"2. Delete a task\")\n",
    "        print(\"3. Show your existing To-Do-List\")\n",
    "        print(\"4. Exit\")\n",
    "        \n",
    "        choice = input(\"Enter your choice: \")\n",
    "\n",
    "        # list = []\n",
    "        # print(\"Kindly add the tasks to your to do list - \")\n",
    "        # print(\"1. Add a task.\\n 2. Delete a task.\\n 3. Show your existing To-Do-List.\\n \")\n",
    "        # number = int(input())\n",
    "        # if (number == 1):\n",
    "        #     add()\n",
    "        # elif (number == 2):\n",
    "        #     currently()\n",
    "        # elif (number == 3):\n",
    "        #     delete()\n",
    "        if choice == \"1\":\n",
    "            add()\n",
    "        elif choice == \"2\":\n",
    "            delete()\n",
    "        elif choice == \"3\":\n",
    "            currently()\n",
    "        elif choice == \"4\":\n",
    "            print(\"Exiting...\")\n",
    "            break\n",
    "        else:\n",
    "            print(\"Invalid choice. Please choose a valid option.\")\n",
    "            \n",
    "\n",
    "if __name__ == \"__main__\":\n",
    "    main()"
   ]
  }
 ],
 "metadata": {
  "kernelspec": {
   "display_name": "Python 3 (ipykernel)",
   "language": "python",
   "name": "python3"
  },
  "language_info": {
   "codemirror_mode": {
    "name": "ipython",
    "version": 3
   },
   "file_extension": ".py",
   "mimetype": "text/x-python",
   "name": "python",
   "nbconvert_exporter": "python",
   "pygments_lexer": "ipython3",
   "version": "3.12.1"
  }
 },
 "nbformat": 4,
 "nbformat_minor": 5
}
